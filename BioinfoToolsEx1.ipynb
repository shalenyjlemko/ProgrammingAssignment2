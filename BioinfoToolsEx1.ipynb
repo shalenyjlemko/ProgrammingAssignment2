{
  "nbformat": 4,
  "nbformat_minor": 0,
  "metadata": {
    "colab": {
      "provenance": [],
      "authorship_tag": "ABX9TyNw1mO/SgSotJlXWOJLtvng",
      "include_colab_link": true
    },
    "kernelspec": {
      "name": "python3",
      "display_name": "Python 3"
    },
    "language_info": {
      "name": "python"
    }
  },
  "cells": [
    {
      "cell_type": "markdown",
      "metadata": {
        "id": "view-in-github",
        "colab_type": "text"
      },
      "source": [
        "<a href=\"https://colab.research.google.com/github/shalenyjlemko/ProgrammingAssignment2/blob/master/BioinfoToolsEx1.ipynb\" target=\"_parent\"><img src=\"https://colab.research.google.com/assets/colab-badge.svg\" alt=\"Open In Colab\"/></a>"
      ]
    },
    {
      "cell_type": "code",
      "execution_count": 1,
      "metadata": {
        "colab": {
          "base_uri": "https://localhost:8080/"
        },
        "id": "xCvoGTSfVk_z",
        "outputId": "e5dd2612-067a-4cb9-c1bc-ad3fb432e6be"
      },
      "outputs": [
        {
          "output_type": "stream",
          "name": "stdout",
          "text": [
            "Get:1 http://security.ubuntu.com/ubuntu jammy-security InRelease [129 kB]\n",
            "Hit:2 http://archive.ubuntu.com/ubuntu jammy InRelease\n",
            "Get:3 http://archive.ubuntu.com/ubuntu jammy-updates InRelease [128 kB]\n",
            "Get:4 https://cloud.r-project.org/bin/linux/ubuntu jammy-cran40/ InRelease [3,626 B]\n",
            "Ign:5 https://r2u.stat.illinois.edu/ubuntu jammy InRelease\n",
            "Hit:6 https://developer.download.nvidia.com/compute/cuda/repos/ubuntu2204/x86_64  InRelease\n",
            "Get:7 https://r2u.stat.illinois.edu/ubuntu jammy Release [5,713 B]\n",
            "Get:8 https://r2u.stat.illinois.edu/ubuntu jammy Release.gpg [793 B]\n",
            "Get:9 http://archive.ubuntu.com/ubuntu jammy-backports InRelease [127 kB]\n",
            "Hit:10 https://ppa.launchpadcontent.net/deadsnakes/ppa/ubuntu jammy InRelease\n",
            "Get:11 http://security.ubuntu.com/ubuntu jammy-security/universe amd64 Packages [1,159 kB]\n",
            "Get:12 https://ppa.launchpadcontent.net/graphics-drivers/ppa/ubuntu jammy InRelease [24.3 kB]\n",
            "Get:13 http://security.ubuntu.com/ubuntu jammy-security/main amd64 Packages [2,318 kB]\n",
            "Hit:14 https://ppa.launchpadcontent.net/ubuntugis/ppa/ubuntu jammy InRelease\n",
            "Get:15 http://archive.ubuntu.com/ubuntu jammy-updates/universe amd64 Packages [1,445 kB]\n",
            "Get:16 http://archive.ubuntu.com/ubuntu jammy-updates/main amd64 Packages [2,595 kB]\n",
            "Get:17 https://r2u.stat.illinois.edu/ubuntu jammy/main amd64 Packages [2,586 kB]\n",
            "Get:18 https://r2u.stat.illinois.edu/ubuntu jammy/main all Packages [8,355 kB]\n",
            "Get:19 http://archive.ubuntu.com/ubuntu jammy-backports/universe amd64 Packages [33.7 kB]\n",
            "Get:20 http://archive.ubuntu.com/ubuntu jammy-backports/main amd64 Packages [81.4 kB]\n",
            "Get:21 https://ppa.launchpadcontent.net/graphics-drivers/ppa/ubuntu jammy/main amd64 Packages [53.5 kB]\n",
            "Fetched 19.0 MB in 5s (3,558 kB/s)\n",
            "Reading package lists... Done\n",
            "W: Skipping acquire of configured file 'main/source/Sources' as repository 'https://r2u.stat.illinois.edu/ubuntu jammy InRelease' does not seem to provide it (sources.list entry misspelt?)\n",
            "Reading package lists... Done\n",
            "Building dependency tree... Done\n",
            "Reading state information... Done\n",
            "The following additional packages will be installed:\n",
            "  dialign emboss-data emboss-lib libhpdf-2.3.0 primer3\n",
            "Suggested packages:\n",
            "  emboss-doc emboss-test embassy clustalw ncbi-epcr\n",
            "The following NEW packages will be installed:\n",
            "  dialign emboss emboss-data emboss-lib libhpdf-2.3.0 primer3\n",
            "0 upgraded, 6 newly installed, 0 to remove and 54 not upgraded.\n",
            "Need to get 65.7 MB of archives.\n",
            "After this operation, 500 MB of additional disk space will be used.\n",
            "Get:1 http://archive.ubuntu.com/ubuntu jammy/universe amd64 dialign amd64 2.2.1-11 [139 kB]\n",
            "Get:2 http://archive.ubuntu.com/ubuntu jammy/universe amd64 libhpdf-2.3.0 amd64 2.3.0+dfsg-1build1 [335 kB]\n",
            "Get:3 http://archive.ubuntu.com/ubuntu jammy/universe amd64 emboss-lib amd64 6.6.0+dfsg-11ubuntu1 [2,971 kB]\n",
            "Get:4 http://archive.ubuntu.com/ubuntu jammy/universe amd64 emboss-data all 6.6.0+dfsg-11ubuntu1 [61.0 MB]\n",
            "Get:5 http://archive.ubuntu.com/ubuntu jammy/universe amd64 emboss amd64 6.6.0+dfsg-11ubuntu1 [977 kB]\n",
            "Get:6 http://archive.ubuntu.com/ubuntu jammy/universe amd64 primer3 amd64 2.5.0-1 [208 kB]\n",
            "Fetched 65.7 MB in 1s (44.5 MB/s)\n",
            "debconf: unable to initialize frontend: Dialog\n",
            "debconf: (No usable dialog-like program is installed, so the dialog based frontend cannot be used. at /usr/share/perl5/Debconf/FrontEnd/Dialog.pm line 78, <> line 6.)\n",
            "debconf: falling back to frontend: Readline\n",
            "debconf: unable to initialize frontend: Readline\n",
            "debconf: (This frontend requires a controlling tty.)\n",
            "debconf: falling back to frontend: Teletype\n",
            "dpkg-preconfigure: unable to re-open stdin: \n",
            "Selecting previously unselected package dialign.\n",
            "(Reading database ... 123614 files and directories currently installed.)\n",
            "Preparing to unpack .../0-dialign_2.2.1-11_amd64.deb ...\n",
            "Unpacking dialign (2.2.1-11) ...\n",
            "Selecting previously unselected package libhpdf-2.3.0:amd64.\n",
            "Preparing to unpack .../1-libhpdf-2.3.0_2.3.0+dfsg-1build1_amd64.deb ...\n",
            "Unpacking libhpdf-2.3.0:amd64 (2.3.0+dfsg-1build1) ...\n",
            "Selecting previously unselected package emboss-lib.\n",
            "Preparing to unpack .../2-emboss-lib_6.6.0+dfsg-11ubuntu1_amd64.deb ...\n",
            "Unpacking emboss-lib (6.6.0+dfsg-11ubuntu1) ...\n",
            "Selecting previously unselected package emboss-data.\n",
            "Preparing to unpack .../3-emboss-data_6.6.0+dfsg-11ubuntu1_all.deb ...\n",
            "Unpacking emboss-data (6.6.0+dfsg-11ubuntu1) ...\n",
            "Selecting previously unselected package emboss.\n",
            "Preparing to unpack .../4-emboss_6.6.0+dfsg-11ubuntu1_amd64.deb ...\n",
            "Unpacking emboss (6.6.0+dfsg-11ubuntu1) ...\n",
            "Selecting previously unselected package primer3.\n",
            "Preparing to unpack .../5-primer3_2.5.0-1_amd64.deb ...\n",
            "Unpacking primer3 (2.5.0-1) ...\n",
            "Setting up libhpdf-2.3.0:amd64 (2.3.0+dfsg-1build1) ...\n",
            "Setting up emboss-data (6.6.0+dfsg-11ubuntu1) ...\n",
            "Setting up primer3 (2.5.0-1) ...\n",
            "Setting up emboss-lib (6.6.0+dfsg-11ubuntu1) ...\n",
            "Setting up dialign (2.2.1-11) ...\n",
            "Setting up emboss (6.6.0+dfsg-11ubuntu1) ...\n",
            "Processing triggers for man-db (2.10.2-1) ...\n",
            "Processing triggers for shared-mime-info (2.1-2) ...\n",
            "Processing triggers for libc-bin (2.35-0ubuntu3.4) ...\n",
            "/sbin/ldconfig.real: /usr/local/lib/libtbbbind_2_5.so.3 is not a symbolic link\n",
            "\n",
            "/sbin/ldconfig.real: /usr/local/lib/libur_loader.so.0 is not a symbolic link\n",
            "\n",
            "/sbin/ldconfig.real: /usr/local/lib/libtbb.so.12 is not a symbolic link\n",
            "\n",
            "/sbin/ldconfig.real: /usr/local/lib/libtbbbind_2_0.so.3 is not a symbolic link\n",
            "\n",
            "/sbin/ldconfig.real: /usr/local/lib/libtbbmalloc.so.2 is not a symbolic link\n",
            "\n",
            "/sbin/ldconfig.real: /usr/local/lib/libtbbmalloc_proxy.so.2 is not a symbolic link\n",
            "\n",
            "/sbin/ldconfig.real: /usr/local/lib/libur_adapter_opencl.so.0 is not a symbolic link\n",
            "\n",
            "/sbin/ldconfig.real: /usr/local/lib/libtbbbind.so.3 is not a symbolic link\n",
            "\n",
            "/sbin/ldconfig.real: /usr/local/lib/libur_adapter_level_zero.so.0 is not a symbolic link\n",
            "\n"
          ]
        }
      ],
      "source": [
        "!sudo apt-get update\n",
        "!sudo apt-get install emboss"
      ]
    },
    {
      "cell_type": "code",
      "source": [
        "!ls\n"
      ],
      "metadata": {
        "colab": {
          "base_uri": "https://localhost:8080/"
        },
        "id": "p3PrrMDyV2TA",
        "outputId": "bdbc560e-54cf-47bd-9825-900b4d25c188"
      },
      "execution_count": 3,
      "outputs": [
        {
          "output_type": "stream",
          "name": "stdout",
          "text": [
            "sample_data\n"
          ]
        }
      ]
    },
    {
      "cell_type": "code",
      "source": [
        "from google.colab import files\n",
        "\n",
        "# Create a list of sequences in FASTA format\n",
        "sequences = {\n",
        "    \"Aco000831.1 AcWRKY4\": \"\"\"MAEANDCLAVIGDWTPNPSPRTLISNFLNENFGSKPFPDPLQENGSNGDDVHGSEDQQMVASPKEEEARQPKAQFFNNLPLQPNIFNFQKPNTNGGLSERMAARAGLNLPKLNMSRTFPTNVVSSSAEVQSPYLTIPPGLSPTTLLESPVFLSNSLGQPSPTTGKFSFLQNCNSNSMTISLPDEIEDEPLEDVPEEFAFKPPLESKPAYLSSAENTDSPVMNYLPISPSLEENNVHVGQDIEIPKNQSQQELNSSSPPNDNQQDGGEADPQGENSSQAVGTPAEDGYNWRKYGQKQVKHSEFPRSYYKCTHPNCSVKKKVERSHEGHITEIIYRGKHNHPKPSSSRRTGAPPSQNGNAQDWQGDVAQNRNAQDWQGDGIEATSLAAAEFGDPSDAIDVSSTLSNDDNEDEDDGATNGDVLVGQDAEEEENESKRRKLDACAFEMGGASRAVREPRVVVQTTSDVDILDDGYRWRKYGQKVVKGNPNPRSYYKCTHPGCSVRKHVERASHDLKSVITTYEGKHNHEVPAARSSGHQNSSPGSAAASPSQSHSLHRRPEPMQDGLVRFNLPLGLLSLPPRDHLGPVGSFSFGLGQSGLANLSMAAMAGLGPVAAMKVPVLLPPPPIAVHAFLGHRPTMESGFMIPKGELKEPVAGSGLPMLNGNTQSVYEQIMRRLPLGPQM\"\"\",\n",
        "    \"Aco005341.1 AcWRKY24\": \"\"\"MPLLHHEDPSSSLLFSNMPGATHRHDLSGAVDVAPYVMSFADYLHGAVDYAALARGFDALPDHGMLIGGCIDNSNSGAEKLTAPDAAGGGGATPMTANSSVSSSSSEAAVGDEESDLCRKEKVKEEEEEEEEEEKEKIKEGEEGSEKSKKVTNPKKKGEKRHREPRFAFMTKSEVDHLEDGYRWRKYGQKAVKNSPYPRSYYRCTTQKCGVKKRVERSHQDPSIVITTYEGQHNHQSPATFRGGMHHFVAPHAAPSCFMSQDFLVQQVANSMINNNGHQMGINPSLYLPSLQPTLQQHQFPDYGLLEDIVPSFIHSNQP\"\"\",\n",
        "    \"seqI\": \"\"\"MAGFDENVAVMGEWVPRSPSPGTLFSSAIGEEKSSKRVLERELSLNHGQVIGLEEDTSSNHNKDSSQSNVFRGGLSERIAARAGFNAPRLNTENIRTNTDFSIDSNLRSPCLTISSPGLSPATLLESPVFLSNPLAQPSPTTGKFPFLPGVNGNALSSEKAKDEFFDDIGASFSFHPVSRSSSSFFQGTTEMMSVDYGNYNNRSSSHQSAEEVKPGSENIESSNLYGIETDNQNGQNKTSDVTTNTSLETVDHQEEEEEQRRGDSMAGGAPAEDGYNWRKYGQKLVKGSEYPRSYYKCTNPNCQVKKKVERSREGHITEIIYKGAHNHLKPPPNRRSGMQVDGTEQVEQQQQQRDSAATWVSCNNTQQQGGSNENNVEEGSTRFEYGNQSGSIQAQTGGQYESGDPVVVVDASSTFSNDEDEDDRGTHGSVSLGYDGGGGGGGGEGDESESKRRKLEAFAAEMSGSTRAIREPRVVVQTTSDVDILDDGYRWRKYGQKVVKGNPNPRSYYKCTAPGCTVRKHVERASHDLKSVITTYEGKHNHDVPAARNSSHGGGGDSGNGNSGGSAAVSHHYHNGHHSEPPRGRFDRQVTTNNQSPFSRPFSFQPHLGPPSGFSFGLGQTGLVNLSMPGLAYGQGKMPGLPHPYMTQPVGMSEAMMQRGMEPKVEPVSDSGQSVYNQIMSRLPQI\"\"\"\n",
        "}\n",
        "\n",
        "# Write to a fasta file\n",
        "with open(\"wrky_sequences.fasta\", \"w\") as f:\n",
        "    for header, sequence in sequences.items():\n",
        "        f.write(f\">{header}\\n\")\n",
        "        f.write(f\"{sequence}\\n\\n\")\n",
        "\n",
        "# List the files to confirm creation\n",
        "!ls -l wrky_sequences.fasta"
      ],
      "metadata": {
        "colab": {
          "base_uri": "https://localhost:8080/"
        },
        "id": "hIjruY7B5LKy",
        "outputId": "90f5ec48-a718-4d27-8aba-7083c0b4b54a"
      },
      "execution_count": 5,
      "outputs": [
        {
          "output_type": "stream",
          "name": "stdout",
          "text": [
            "-rw-r--r-- 1 root root 1741 Sep 30 21:47 wrky_sequences.fasta\n"
          ]
        }
      ]
    },
    {
      "cell_type": "code",
      "source": [
        "!dotmatcher wrky_sequences.fasta wrky_sequences.fasta -graph svg"
      ],
      "metadata": {
        "colab": {
          "base_uri": "https://localhost:8080/"
        },
        "id": "NfXkUhpy6hWu",
        "outputId": "db1a4c4e-ab29-44f8-9a9b-02602b6875f0"
      },
      "execution_count": 6,
      "outputs": [
        {
          "output_type": "stream",
          "name": "stdout",
          "text": [
            "Draw a threshold dotplot of two sequences\n",
            "Created dotmatcher.svg\n"
          ]
        }
      ]
    },
    {
      "cell_type": "code",
      "source": [
        "from IPython.display import SVG, display\n",
        "\n",
        "# Display the dot plot created by Dotmatcher\n",
        "display(SVG('dotmatcher.svg'))"
      ],
      "metadata": {
        "colab": {
          "base_uri": "https://localhost:8080/",
          "height": 588
        },
        "id": "76RgUzq16jUK",
        "outputId": "878650dc-c84d-423a-86de-04d8de637a30"
      },
      "execution_count": 7,
      "outputs": [
        {
          "output_type": "display_data",
          "data": {
            "text/plain": [
              "<IPython.core.display.SVG object>"
            ],
            "image/svg+xml": "<svg xmlns=\"http://www.w3.org/2000/svg\" version=\"1.1\" width=\"20cm\" height=\"15cm\" viewBox=\"0 0 720 540\">\n    <rect x=\"0\" y=\"0\" width=\"720\" height=\"540\" stroke=\"none\" fill=\"#FFFFFF\"/>\n    <g transform=\"matrix(1 0 0 -1 0 540)\">\n      <g transform=\"matrix(1.000000 0.000000 -0.000000 -1.000000 379 521)\">\n        <text dominant-baseline=\"no-change\" x=\"0\" y=\"0\" fill=\"#000000\" xml:space=\"preserve\" font-size=\"18\" text-anchor=\"middle\"><tspan font-family=\"sans-serif\" font-style=\"normal\" font-weight=\"normal\">Dotmatcher: fasta::wrky_sequences.fasta:Aco000831.1 vs f...</tspan>\n        </text>\n      </g>\n      <g transform=\"matrix(1.000000 0.000000 -0.000000 -1.000000 379 505)\">\n        <text dominant-baseline=\"no-change\" x=\"0\" y=\"0\" fill=\"#000000\" xml:space=\"preserve\" font-size=\"9\" text-anchor=\"middle\"><tspan font-family=\"sans-serif\" font-style=\"normal\" font-weight=\"normal\">(windowsize = 10, threshold = 23.00  30/09/24)</tspan>\n        </text>\n      </g>\n      <g transform=\"matrix(1.000000 0.000000 0.000000 -1.000000 284 25)\">\n        <text dominant-baseline=\"no-change\" x=\"0\" y=\"0\" fill=\"#000000\" xml:space=\"preserve\" font-size=\"18\" text-anchor=\"middle\"><tspan font-family=\"sans-serif\" font-style=\"normal\" font-weight=\"normal\">Aco000831.1</tspan>\n        </text>\n      </g>\n      <g transform=\"matrix(0.000000 1.000000 1.000000 -0.000000 16 264)\">\n        <text dominant-baseline=\"no-change\" x=\"0\" y=\"0\" fill=\"#000000\" xml:space=\"preserve\" font-size=\"18\" text-anchor=\"middle\"><tspan font-family=\"sans-serif\" font-style=\"normal\" font-weight=\"normal\">Aco000831.1</tspan>\n        </text>\n      </g>\n      <polyline stroke-width=\"1\" stroke=\"#000000\" fill=\"none\" points=\"66,63 502,478\"/>\n      <polyline stroke-width=\"1\" stroke=\"#000000\" fill=\"none\" points=\"338,323 345,329\"/>\n      <polyline stroke-width=\"1\" stroke=\"#000000\" fill=\"none\" points=\"220,217 227,224\"/>\n      <polyline stroke-width=\"1\" stroke=\"#000000\" fill=\"none\" points=\"290,284 303,296\"/>\n      <polyline stroke-width=\"1\" stroke=\"#000000\" fill=\"none\" points=\"456,459 462,465\"/>\n      <polyline stroke-width=\"1\" stroke=\"#000000\" fill=\"none\" points=\"150,198 157,204\"/>\n      <polyline stroke-width=\"1\" stroke=\"#000000\" fill=\"none\" points=\"234,278 240,284\"/>\n      <polyline stroke-width=\"1\" stroke=\"#000000\" fill=\"none\" points=\"74,145 81,152\"/>\n      <polyline stroke-width=\"1\" stroke=\"#000000\" fill=\"none\" points=\"113,196 121,203\"/>\n      <polyline stroke-width=\"1\" stroke=\"#000000\" fill=\"none\" points=\"214,316 221,323\"/>\n      <polyline stroke-width=\"1\" stroke=\"#000000\" fill=\"none\" points=\"217,319 225,326\"/>\n      <polyline stroke-width=\"1\" stroke=\"#000000\" fill=\"none\" points=\"244,345 259,359\"/>\n      <polyline stroke-width=\"1\" stroke=\"#000000\" fill=\"none\" points=\"255,356 274,373\"/>\n      <polyline stroke-width=\"1\" stroke=\"#000000\" fill=\"none\" points=\"276,376 287,387\"/>\n      <polyline stroke-width=\"1\" stroke=\"#000000\" fill=\"none\" points=\"89,225 96,232\"/>\n      <polyline stroke-width=\"1\" stroke=\"#000000\" fill=\"none\" points=\"289,462 297,469\"/>\n      <polyline stroke-width=\"1\" stroke=\"#000000\" fill=\"none\" points=\"205,470 213,478\"/>\n      <polyline stroke-width=\"1\" stroke=\"#000000\" fill=\"none\" points=\"75,357 81,363\"/>\n      <polyline stroke-width=\"1\" stroke=\"#000000\" fill=\"none\" points=\"128,427 134,433\"/>\n      <polyline stroke-width=\"1\" stroke=\"#000000\" fill=\"none\" points=\"132,459 139,466\"/>\n      <polyline stroke-width=\"1\" stroke=\"#000000\" fill=\"none\" points=\"112,470 119,476\"/>\n      <polyline stroke-width=\"1\" stroke=\"#000000\" fill=\"none\" points=\"66,63 502,478\"/>\n      <polyline stroke-width=\"1\" stroke=\"#000000\" fill=\"none\" points=\"339,322 345,328\"/>\n      <polyline stroke-width=\"1\" stroke=\"#000000\" fill=\"none\" points=\"228,210 235,216\"/>\n      <polyline stroke-width=\"1\" stroke=\"#000000\" fill=\"none\" points=\"298,276 311,288\"/>\n      <polyline stroke-width=\"1\" stroke=\"#000000\" fill=\"none\" points=\"482,434 488,440\"/>\n      <polyline stroke-width=\"1\" stroke=\"#000000\" fill=\"none\" points=\"208,143 214,149\"/>\n      <polyline stroke-width=\"1\" stroke=\"#000000\" fill=\"none\" points=\"292,222 298,228\"/>\n      <polyline stroke-width=\"1\" stroke=\"#000000\" fill=\"none\" points=\"153,71 160,78\"/>\n      <polyline stroke-width=\"1\" stroke=\"#000000\" fill=\"none\" points=\"206,108 214,115\"/>\n      <polyline stroke-width=\"1\" stroke=\"#000000\" fill=\"none\" points=\"332,204 339,211\"/>\n      <polyline stroke-width=\"1\" stroke=\"#000000\" fill=\"none\" points=\"335,206 343,214\"/>\n      <polyline stroke-width=\"1\" stroke=\"#000000\" fill=\"none\" points=\"363,233 377,246\"/>\n      <polyline stroke-width=\"1\" stroke=\"#000000\" fill=\"none\" points=\"373,243 392,261\"/>\n      <polyline stroke-width=\"1\" stroke=\"#000000\" fill=\"none\" points=\"395,263 406,274\"/>\n      <polyline stroke-width=\"1\" stroke=\"#000000\" fill=\"none\" points=\"237,85 244,92\"/>\n      <polyline stroke-width=\"1\" stroke=\"#000000\" fill=\"none\" points=\"485,275 493,283\"/>\n      <polyline stroke-width=\"1\" stroke=\"#000000\" fill=\"none\" points=\"494,195 502,203\"/>\n      <polyline stroke-width=\"1\" stroke=\"#000000\" fill=\"none\" points=\"375,71 381,78\"/>\n      <polyline stroke-width=\"1\" stroke=\"#000000\" fill=\"none\" points=\"449,122 455,128\"/>\n      <polyline stroke-width=\"1\" stroke=\"#000000\" fill=\"none\" points=\"483,125 490,132\"/>\n      <polyline stroke-width=\"1\" stroke=\"#000000\" fill=\"none\" points=\"494,107 501,113\"/>\n      <polyline stroke-width=\"1\" stroke=\"#000000\" fill=\"none\" points=\"65,62 65,478 502,478 502,62 65,62 \"/>\n      <polyline stroke-width=\"1\" stroke=\"#000000\" fill=\"none\" points=\"65,62 65,56\"/>\n      <g transform=\"matrix(1.000000 0.000000 0.000000 -1.000000 65 47)\">\n        <text dominant-baseline=\"no-change\" x=\"0\" y=\"0\" fill=\"#000000\" xml:space=\"preserve\" font-size=\"9\" text-anchor=\"middle\"><tspan font-family=\"sans-serif\" font-style=\"normal\" font-weight=\"normal\">0</tspan>\n        </text>\n      </g>\n      <polyline stroke-width=\"1\" stroke=\"#000000\" fill=\"none\" points=\"130,62 130,56\"/>\n      <g transform=\"matrix(1.000000 0.000000 0.000000 -1.000000 130 47)\">\n        <text dominant-baseline=\"no-change\" x=\"0\" y=\"0\" fill=\"#000000\" xml:space=\"preserve\" font-size=\"9\" text-anchor=\"middle\"><tspan font-family=\"sans-serif\" font-style=\"normal\" font-weight=\"normal\">100</tspan>\n        </text>\n      </g>\n      <polyline stroke-width=\"1\" stroke=\"#000000\" fill=\"none\" points=\"194,62 194,56\"/>\n      <g transform=\"matrix(1.000000 0.000000 0.000000 -1.000000 194 47)\">\n        <text dominant-baseline=\"no-change\" x=\"0\" y=\"0\" fill=\"#000000\" xml:space=\"preserve\" font-size=\"9\" text-anchor=\"middle\"><tspan font-family=\"sans-serif\" font-style=\"normal\" font-weight=\"normal\">200</tspan>\n        </text>\n      </g>\n      <polyline stroke-width=\"1\" stroke=\"#000000\" fill=\"none\" points=\"258,62 258,56\"/>\n      <g transform=\"matrix(1.000000 0.000000 0.000000 -1.000000 258 47)\">\n        <text dominant-baseline=\"no-change\" x=\"0\" y=\"0\" fill=\"#000000\" xml:space=\"preserve\" font-size=\"9\" text-anchor=\"middle\"><tspan font-family=\"sans-serif\" font-style=\"normal\" font-weight=\"normal\">300</tspan>\n        </text>\n      </g>\n      <polyline stroke-width=\"1\" stroke=\"#000000\" fill=\"none\" points=\"322,62 322,56\"/>\n      <g transform=\"matrix(1.000000 0.000000 0.000000 -1.000000 322 47)\">\n        <text dominant-baseline=\"no-change\" x=\"0\" y=\"0\" fill=\"#000000\" xml:space=\"preserve\" font-size=\"9\" text-anchor=\"middle\"><tspan font-family=\"sans-serif\" font-style=\"normal\" font-weight=\"normal\">400</tspan>\n        </text>\n      </g>\n      <polyline stroke-width=\"1\" stroke=\"#000000\" fill=\"none\" points=\"386,62 386,56\"/>\n      <g transform=\"matrix(1.000000 0.000000 0.000000 -1.000000 386 47)\">\n        <text dominant-baseline=\"no-change\" x=\"0\" y=\"0\" fill=\"#000000\" xml:space=\"preserve\" font-size=\"9\" text-anchor=\"middle\"><tspan font-family=\"sans-serif\" font-style=\"normal\" font-weight=\"normal\">500</tspan>\n        </text>\n      </g>\n      <polyline stroke-width=\"1\" stroke=\"#000000\" fill=\"none\" points=\"450,62 450,56\"/>\n      <g transform=\"matrix(1.000000 0.000000 0.000000 -1.000000 450 47)\">\n        <text dominant-baseline=\"no-change\" x=\"0\" y=\"0\" fill=\"#000000\" xml:space=\"preserve\" font-size=\"9\" text-anchor=\"middle\"><tspan font-family=\"sans-serif\" font-style=\"normal\" font-weight=\"normal\">600</tspan>\n        </text>\n      </g>\n      <polyline stroke-width=\"1\" stroke=\"#000000\" fill=\"none\" points=\"65,62 65,62\"/>\n      <g transform=\"matrix(1.000000 0.000000 0.000000 -1.000000 64 59)\">\n        <text dominant-baseline=\"no-change\" x=\"0\" y=\"0\" fill=\"#000000\" xml:space=\"preserve\" font-size=\"9\" text-anchor=\"end\"><tspan font-family=\"sans-serif\" font-style=\"normal\" font-weight=\"normal\">0</tspan>\n        </text>\n      </g>\n      <polyline stroke-width=\"1\" stroke=\"#000000\" fill=\"none\" points=\"65,123 65,123\"/>\n      <g transform=\"matrix(1.000000 0.000000 0.000000 -1.000000 64 120)\">\n        <text dominant-baseline=\"no-change\" x=\"0\" y=\"0\" fill=\"#000000\" xml:space=\"preserve\" font-size=\"9\" text-anchor=\"end\"><tspan font-family=\"sans-serif\" font-style=\"normal\" font-weight=\"normal\">100</tspan>\n        </text>\n      </g>\n      <polyline stroke-width=\"1\" stroke=\"#000000\" fill=\"none\" points=\"65,184 65,184\"/>\n      <g transform=\"matrix(1.000000 0.000000 0.000000 -1.000000 64 181)\">\n        <text dominant-baseline=\"no-change\" x=\"0\" y=\"0\" fill=\"#000000\" xml:space=\"preserve\" font-size=\"9\" text-anchor=\"end\"><tspan font-family=\"sans-serif\" font-style=\"normal\" font-weight=\"normal\">200</tspan>\n        </text>\n      </g>\n      <polyline stroke-width=\"1\" stroke=\"#000000\" fill=\"none\" points=\"65,246 65,246\"/>\n      <g transform=\"matrix(1.000000 0.000000 0.000000 -1.000000 64 243)\">\n        <text dominant-baseline=\"no-change\" x=\"0\" y=\"0\" fill=\"#000000\" xml:space=\"preserve\" font-size=\"9\" text-anchor=\"end\"><tspan font-family=\"sans-serif\" font-style=\"normal\" font-weight=\"normal\">300</tspan>\n        </text>\n      </g>\n      <polyline stroke-width=\"1\" stroke=\"#000000\" fill=\"none\" points=\"65,307 65,307\"/>\n      <g transform=\"matrix(1.000000 0.000000 0.000000 -1.000000 64 304)\">\n        <text dominant-baseline=\"no-change\" x=\"0\" y=\"0\" fill=\"#000000\" xml:space=\"preserve\" font-size=\"9\" text-anchor=\"end\"><tspan font-family=\"sans-serif\" font-style=\"normal\" font-weight=\"normal\">400</tspan>\n        </text>\n      </g>\n      <polyline stroke-width=\"1\" stroke=\"#000000\" fill=\"none\" points=\"65,368 65,368\"/>\n      <g transform=\"matrix(1.000000 0.000000 0.000000 -1.000000 64 365)\">\n        <text dominant-baseline=\"no-change\" x=\"0\" y=\"0\" fill=\"#000000\" xml:space=\"preserve\" font-size=\"9\" text-anchor=\"end\"><tspan font-family=\"sans-serif\" font-style=\"normal\" font-weight=\"normal\">500</tspan>\n        </text>\n      </g>\n      <polyline stroke-width=\"1\" stroke=\"#000000\" fill=\"none\" points=\"65,429 65,429\"/>\n      <g transform=\"matrix(1.000000 0.000000 0.000000 -1.000000 64 426)\">\n        <text dominant-baseline=\"no-change\" x=\"0\" y=\"0\" fill=\"#000000\" xml:space=\"preserve\" font-size=\"9\" text-anchor=\"end\"><tspan font-family=\"sans-serif\" font-style=\"normal\" font-weight=\"normal\">600</tspan>\n        </text>\n      </g>\n    </g>\n  </svg>"
          },
          "metadata": {}
        }
      ]
    },
    {
      "cell_type": "code",
      "source": [
        "# Writing sequences into individual fasta files\n",
        "with open(\"AcWRKY4.fasta\", \"w\") as f:\n",
        "    f.write(\">Aco000831.1 AcWRKY4\\n\")\n",
        "    f.write(sequences[\"Aco000831.1 AcWRKY4\"] + \"\\n\")\n",
        "\n",
        "with open(\"seqI.fasta\", \"w\") as f:\n",
        "    f.write(\">seqI\\n\")\n",
        "    f.write(sequences[\"seqI\"] + \"\\n\")"
      ],
      "metadata": {
        "id": "z7LQuVp77FQj"
      },
      "execution_count": 9,
      "outputs": []
    },
    {
      "cell_type": "code",
      "source": [
        "# Writing AcWRKY4 sequence into a separate FASTA file\n",
        "with open(\"AcWRKY4.fasta\", \"w\") as f:\n",
        "    f.write(\">Aco000831.1 AcWRKY4\\n\")\n",
        "    f.write(sequences[\"Aco000831.1 AcWRKY4\"] + \"\\n\")\n",
        "\n",
        "# Writing AcWRKY24 sequence into a separate FASTA file\n",
        "with open(\"AcWRKY24.fasta\", \"w\") as f:\n",
        "    f.write(\">Aco005341.1 AcWRKY24\\n\")\n",
        "    f.write(sequences[\"Aco005341.1 AcWRKY24\"] + \"\\n\")\n"
      ],
      "metadata": {
        "id": "gan1BbKh7Ua_"
      },
      "execution_count": 10,
      "outputs": []
    },
    {
      "cell_type": "code",
      "source": [
        "!dotmatcher seqI.fasta AcWRKY4.fasta -graph svg"
      ],
      "metadata": {
        "colab": {
          "base_uri": "https://localhost:8080/"
        },
        "id": "zqFHoY6M7pDP",
        "outputId": "fa80ef04-f79c-4041-812b-283acdea2a54"
      },
      "execution_count": 12,
      "outputs": [
        {
          "output_type": "stream",
          "name": "stdout",
          "text": [
            "Draw a threshold dotplot of two sequences\n",
            "Created dotmatcher.svg\n"
          ]
        }
      ]
    },
    {
      "cell_type": "code",
      "source": [
        "display(SVG('dotmatcher.svg'))"
      ],
      "metadata": {
        "colab": {
          "base_uri": "https://localhost:8080/",
          "height": 588
        },
        "id": "mvWXEQYU78ht",
        "outputId": "690e882a-320c-427e-cac5-ae755807479a"
      },
      "execution_count": 14,
      "outputs": [
        {
          "output_type": "display_data",
          "data": {
            "text/plain": [
              "<IPython.core.display.SVG object>"
            ],
            "image/svg+xml": "<svg xmlns=\"http://www.w3.org/2000/svg\" version=\"1.1\" width=\"20cm\" height=\"15cm\" viewBox=\"0 0 720 540\">\n    <rect x=\"0\" y=\"0\" width=\"720\" height=\"540\" stroke=\"none\" fill=\"#FFFFFF\"/>\n    <g transform=\"matrix(1 0 0 -1 0 540)\">\n      <g transform=\"matrix(1.000000 0.000000 -0.000000 -1.000000 379 521)\">\n        <text dominant-baseline=\"no-change\" x=\"0\" y=\"0\" fill=\"#000000\" xml:space=\"preserve\" font-size=\"18\" text-anchor=\"middle\"><tspan font-family=\"sans-serif\" font-style=\"normal\" font-weight=\"normal\">Dotmatcher: fasta::seqI.fasta:seqI vs fasta::AcWRKY4.fas...</tspan>\n        </text>\n      </g>\n      <g transform=\"matrix(1.000000 0.000000 -0.000000 -1.000000 379 505)\">\n        <text dominant-baseline=\"no-change\" x=\"0\" y=\"0\" fill=\"#000000\" xml:space=\"preserve\" font-size=\"9\" text-anchor=\"middle\"><tspan font-family=\"sans-serif\" font-style=\"normal\" font-weight=\"normal\">(windowsize = 10, threshold = 23.00  30/09/24)</tspan>\n        </text>\n      </g>\n      <g transform=\"matrix(1.000000 0.000000 0.000000 -1.000000 281 25)\">\n        <text dominant-baseline=\"no-change\" x=\"0\" y=\"0\" fill=\"#000000\" xml:space=\"preserve\" font-size=\"18\" text-anchor=\"middle\"><tspan font-family=\"sans-serif\" font-style=\"normal\" font-weight=\"normal\">seqI</tspan>\n        </text>\n      </g>\n      <g transform=\"matrix(0.000000 1.000000 1.000000 -0.000000 16 264)\">\n        <text dominant-baseline=\"no-change\" x=\"0\" y=\"0\" fill=\"#000000\" xml:space=\"preserve\" font-size=\"18\" text-anchor=\"middle\"><tspan font-family=\"sans-serif\" font-style=\"normal\" font-weight=\"normal\">Aco000831.1</tspan>\n        </text>\n      </g>\n      <polyline stroke-width=\"1\" stroke=\"#000000\" fill=\"none\" points=\"68,65 78,74\"/>\n      <polyline stroke-width=\"1\" stroke=\"#000000\" fill=\"none\" points=\"74,71 83,80\"/>\n      <polyline stroke-width=\"1\" stroke=\"#000000\" fill=\"none\" points=\"484,467 495,478\"/>\n      <polyline stroke-width=\"1\" stroke=\"#000000\" fill=\"none\" points=\"321,313 332,324\"/>\n      <polyline stroke-width=\"1\" stroke=\"#000000\" fill=\"none\" points=\"328,320 335,326\"/>\n      <polyline stroke-width=\"1\" stroke=\"#000000\" fill=\"none\" points=\"321,314 328,320\"/>\n      <polyline stroke-width=\"1\" stroke=\"#000000\" fill=\"none\" points=\"311,305 318,311\"/>\n      <polyline stroke-width=\"1\" stroke=\"#000000\" fill=\"none\" points=\"313,306 320,313\"/>\n      <polyline stroke-width=\"1\" stroke=\"#000000\" fill=\"none\" points=\"315,308 328,320\"/>\n      <polyline stroke-width=\"1\" stroke=\"#000000\" fill=\"none\" points=\"477,465 483,471\"/>\n      <polyline stroke-width=\"1\" stroke=\"#000000\" fill=\"none\" points=\"334,330 349,344\"/>\n      <polyline stroke-width=\"1\" stroke=\"#000000\" fill=\"none\" points=\"344,339 407,398\"/>\n      <polyline stroke-width=\"1\" stroke=\"#000000\" fill=\"none\" points=\"405,402 412,408\"/>\n      <polyline stroke-width=\"1\" stroke=\"#000000\" fill=\"none\" points=\"432,428 450,445\"/>\n      <polyline stroke-width=\"1\" stroke=\"#000000\" fill=\"none\" points=\"394,409 400,415\"/>\n      <polyline stroke-width=\"1\" stroke=\"#000000\" fill=\"none\" points=\"421,437 427,443\"/>\n      <polyline stroke-width=\"1\" stroke=\"#000000\" fill=\"none\" points=\"74,132 81,138\"/>\n      <polyline stroke-width=\"1\" stroke=\"#000000\" fill=\"none\" points=\"228,281 236,288\"/>\n      <polyline stroke-width=\"1\" stroke=\"#000000\" fill=\"none\" points=\"210,286 218,293\"/>\n      <polyline stroke-width=\"1\" stroke=\"#000000\" fill=\"none\" points=\"367,445 374,451\"/>\n      <polyline stroke-width=\"1\" stroke=\"#000000\" fill=\"none\" points=\"243,354 257,367\"/>\n      <polyline stroke-width=\"1\" stroke=\"#000000\" fill=\"none\" points=\"253,364 272,382\"/>\n      <polyline stroke-width=\"1\" stroke=\"#000000\" fill=\"none\" points=\"274,384 285,395\"/>\n      <polyline stroke-width=\"1\" stroke=\"#000000\" fill=\"none\" points=\"286,397 293,403\"/>\n      <polyline stroke-width=\"1\" stroke=\"#000000\" fill=\"none\" points=\"269,408 275,414\"/>\n      <polyline stroke-width=\"1\" stroke=\"#000000\" fill=\"none\" points=\"254,411 261,418\"/>\n      <polyline stroke-width=\"1\" stroke=\"#000000\" fill=\"none\" points=\"91,284 98,290\"/>\n      <polyline stroke-width=\"1\" stroke=\"#000000\" fill=\"none\" points=\"149,429 155,435\"/>\n      <polyline stroke-width=\"1\" stroke=\"#000000\" fill=\"none\" points=\"75,365 81,371\"/>\n      <polyline stroke-width=\"1\" stroke=\"#000000\" fill=\"none\" points=\"93,396 100,403\"/>\n      <polyline stroke-width=\"1\" stroke=\"#000000\" fill=\"none\" points=\"147,450 156,458\"/>\n      <polyline stroke-width=\"1\" stroke=\"#000000\" fill=\"none\" points=\"126,456 132,462\"/>\n      <polyline stroke-width=\"1\" stroke=\"#000000\" fill=\"none\" points=\"68,65 78,74\"/>\n      <polyline stroke-width=\"1\" stroke=\"#000000\" fill=\"none\" points=\"239,221 288,267\"/>\n      <polyline stroke-width=\"1\" stroke=\"#000000\" fill=\"none\" points=\"150,130 177,155\"/>\n      <polyline stroke-width=\"1\" stroke=\"#000000\" fill=\"none\" points=\"172,151 178,157\"/>\n      <polyline stroke-width=\"1\" stroke=\"#000000\" fill=\"none\" points=\"123,103 139,119\"/>\n      <polyline stroke-width=\"1\" stroke=\"#000000\" fill=\"none\" points=\"145,125 152,132\"/>\n      <polyline stroke-width=\"1\" stroke=\"#000000\" fill=\"none\" points=\"187,163 193,169\"/>\n      <polyline stroke-width=\"1\" stroke=\"#000000\" fill=\"none\" points=\"321,287 327,293\"/>\n      <polyline stroke-width=\"1\" stroke=\"#000000\" fill=\"none\" points=\"353,307 359,313\"/>\n      <polyline stroke-width=\"1\" stroke=\"#000000\" fill=\"none\" points=\"151,71 158,77\"/>\n      <polyline stroke-width=\"1\" stroke=\"#000000\" fill=\"none\" points=\"154,74 161,80\"/>\n      <polyline stroke-width=\"1\" stroke=\"#000000\" fill=\"none\" points=\"333,215 340,221\"/>\n      <polyline stroke-width=\"1\" stroke=\"#000000\" fill=\"none\" points=\"333,213 342,222\"/>\n      <polyline stroke-width=\"1\" stroke=\"#000000\" fill=\"none\" points=\"335,215 342,221\"/>\n      <polyline stroke-width=\"1\" stroke=\"#000000\" fill=\"none\" points=\"360,224 389,252\"/>\n      <polyline stroke-width=\"1\" stroke=\"#000000\" fill=\"none\" points=\"392,255 401,264\"/>\n      <polyline stroke-width=\"1\" stroke=\"#000000\" fill=\"none\" points=\"483,342 490,348\"/>\n      <polyline stroke-width=\"1\" stroke=\"#000000\" fill=\"none\" points=\"278,97 285,103\"/>\n      <polyline stroke-width=\"1\" stroke=\"#000000\" fill=\"none\" points=\"280,98 286,104\"/>\n      <polyline stroke-width=\"1\" stroke=\"#000000\" fill=\"none\" points=\"400,183 408,190\"/>\n      <polyline stroke-width=\"1\" stroke=\"#000000\" fill=\"none\" points=\"335,79 341,85\"/>\n      <polyline stroke-width=\"1\" stroke=\"#000000\" fill=\"none\" points=\"480,150 487,156\"/>\n      <polyline stroke-width=\"1\" stroke=\"#000000\" fill=\"none\" points=\"481,151 488,158\"/>\n      <polyline stroke-width=\"1\" stroke=\"#000000\" fill=\"none\" points=\"65,62 65,478 497,478 497,62 65,62 \"/>\n      <polyline stroke-width=\"1\" stroke=\"#000000\" fill=\"none\" points=\"65,62 65,56\"/>\n      <g transform=\"matrix(1.000000 0.000000 0.000000 -1.000000 65 47)\">\n        <text dominant-baseline=\"no-change\" x=\"0\" y=\"0\" fill=\"#000000\" xml:space=\"preserve\" font-size=\"9\" text-anchor=\"middle\"><tspan font-family=\"sans-serif\" font-style=\"normal\" font-weight=\"normal\">0</tspan>\n        </text>\n      </g>\n      <polyline stroke-width=\"1\" stroke=\"#000000\" fill=\"none\" points=\"129,62 129,56\"/>\n      <g transform=\"matrix(1.000000 0.000000 0.000000 -1.000000 129 47)\">\n        <text dominant-baseline=\"no-change\" x=\"0\" y=\"0\" fill=\"#000000\" xml:space=\"preserve\" font-size=\"9\" text-anchor=\"middle\"><tspan font-family=\"sans-serif\" font-style=\"normal\" font-weight=\"normal\">100</tspan>\n        </text>\n      </g>\n      <polyline stroke-width=\"1\" stroke=\"#000000\" fill=\"none\" points=\"192,62 192,56\"/>\n      <g transform=\"matrix(1.000000 0.000000 0.000000 -1.000000 192 47)\">\n        <text dominant-baseline=\"no-change\" x=\"0\" y=\"0\" fill=\"#000000\" xml:space=\"preserve\" font-size=\"9\" text-anchor=\"middle\"><tspan font-family=\"sans-serif\" font-style=\"normal\" font-weight=\"normal\">200</tspan>\n        </text>\n      </g>\n      <polyline stroke-width=\"1\" stroke=\"#000000\" fill=\"none\" points=\"256,62 256,56\"/>\n      <g transform=\"matrix(1.000000 0.000000 0.000000 -1.000000 256 47)\">\n        <text dominant-baseline=\"no-change\" x=\"0\" y=\"0\" fill=\"#000000\" xml:space=\"preserve\" font-size=\"9\" text-anchor=\"middle\"><tspan font-family=\"sans-serif\" font-style=\"normal\" font-weight=\"normal\">300</tspan>\n        </text>\n      </g>\n      <polyline stroke-width=\"1\" stroke=\"#000000\" fill=\"none\" points=\"320,62 320,56\"/>\n      <g transform=\"matrix(1.000000 0.000000 0.000000 -1.000000 320 47)\">\n        <text dominant-baseline=\"no-change\" x=\"0\" y=\"0\" fill=\"#000000\" xml:space=\"preserve\" font-size=\"9\" text-anchor=\"middle\"><tspan font-family=\"sans-serif\" font-style=\"normal\" font-weight=\"normal\">400</tspan>\n        </text>\n      </g>\n      <polyline stroke-width=\"1\" stroke=\"#000000\" fill=\"none\" points=\"383,62 383,56\"/>\n      <g transform=\"matrix(1.000000 0.000000 0.000000 -1.000000 383 47)\">\n        <text dominant-baseline=\"no-change\" x=\"0\" y=\"0\" fill=\"#000000\" xml:space=\"preserve\" font-size=\"9\" text-anchor=\"middle\"><tspan font-family=\"sans-serif\" font-style=\"normal\" font-weight=\"normal\">500</tspan>\n        </text>\n      </g>\n      <polyline stroke-width=\"1\" stroke=\"#000000\" fill=\"none\" points=\"447,62 447,56\"/>\n      <g transform=\"matrix(1.000000 0.000000 0.000000 -1.000000 447 47)\">\n        <text dominant-baseline=\"no-change\" x=\"0\" y=\"0\" fill=\"#000000\" xml:space=\"preserve\" font-size=\"9\" text-anchor=\"middle\"><tspan font-family=\"sans-serif\" font-style=\"normal\" font-weight=\"normal\">600</tspan>\n        </text>\n      </g>\n      <polyline stroke-width=\"1\" stroke=\"#000000\" fill=\"none\" points=\"65,62 65,62\"/>\n      <g transform=\"matrix(1.000000 0.000000 0.000000 -1.000000 64 59)\">\n        <text dominant-baseline=\"no-change\" x=\"0\" y=\"0\" fill=\"#000000\" xml:space=\"preserve\" font-size=\"9\" text-anchor=\"end\"><tspan font-family=\"sans-serif\" font-style=\"normal\" font-weight=\"normal\">0</tspan>\n        </text>\n      </g>\n      <polyline stroke-width=\"1\" stroke=\"#000000\" fill=\"none\" points=\"65,123 65,123\"/>\n      <g transform=\"matrix(1.000000 0.000000 0.000000 -1.000000 64 120)\">\n        <text dominant-baseline=\"no-change\" x=\"0\" y=\"0\" fill=\"#000000\" xml:space=\"preserve\" font-size=\"9\" text-anchor=\"end\"><tspan font-family=\"sans-serif\" font-style=\"normal\" font-weight=\"normal\">100</tspan>\n        </text>\n      </g>\n      <polyline stroke-width=\"1\" stroke=\"#000000\" fill=\"none\" points=\"65,183 65,183\"/>\n      <g transform=\"matrix(1.000000 0.000000 0.000000 -1.000000 64 180)\">\n        <text dominant-baseline=\"no-change\" x=\"0\" y=\"0\" fill=\"#000000\" xml:space=\"preserve\" font-size=\"9\" text-anchor=\"end\"><tspan font-family=\"sans-serif\" font-style=\"normal\" font-weight=\"normal\">200</tspan>\n        </text>\n      </g>\n      <polyline stroke-width=\"1\" stroke=\"#000000\" fill=\"none\" points=\"65,244 65,244\"/>\n      <g transform=\"matrix(1.000000 0.000000 0.000000 -1.000000 64 241)\">\n        <text dominant-baseline=\"no-change\" x=\"0\" y=\"0\" fill=\"#000000\" xml:space=\"preserve\" font-size=\"9\" text-anchor=\"end\"><tspan font-family=\"sans-serif\" font-style=\"normal\" font-weight=\"normal\">300</tspan>\n        </text>\n      </g>\n      <polyline stroke-width=\"1\" stroke=\"#000000\" fill=\"none\" points=\"65,304 65,304\"/>\n      <g transform=\"matrix(1.000000 0.000000 0.000000 -1.000000 64 301)\">\n        <text dominant-baseline=\"no-change\" x=\"0\" y=\"0\" fill=\"#000000\" xml:space=\"preserve\" font-size=\"9\" text-anchor=\"end\"><tspan font-family=\"sans-serif\" font-style=\"normal\" font-weight=\"normal\">400</tspan>\n        </text>\n      </g>\n      <polyline stroke-width=\"1\" stroke=\"#000000\" fill=\"none\" points=\"65,365 65,365\"/>\n      <g transform=\"matrix(1.000000 0.000000 0.000000 -1.000000 64 362)\">\n        <text dominant-baseline=\"no-change\" x=\"0\" y=\"0\" fill=\"#000000\" xml:space=\"preserve\" font-size=\"9\" text-anchor=\"end\"><tspan font-family=\"sans-serif\" font-style=\"normal\" font-weight=\"normal\">500</tspan>\n        </text>\n      </g>\n      <polyline stroke-width=\"1\" stroke=\"#000000\" fill=\"none\" points=\"65,425 65,425\"/>\n      <g transform=\"matrix(1.000000 0.000000 0.000000 -1.000000 64 422)\">\n        <text dominant-baseline=\"no-change\" x=\"0\" y=\"0\" fill=\"#000000\" xml:space=\"preserve\" font-size=\"9\" text-anchor=\"end\"><tspan font-family=\"sans-serif\" font-style=\"normal\" font-weight=\"normal\">600</tspan>\n        </text>\n      </g>\n    </g>\n  </svg>"
          },
          "metadata": {}
        }
      ]
    },
    {
      "cell_type": "code",
      "source": [
        "!dotmatcher seqI.fasta AcWRKY24.fasta -graph svg"
      ],
      "metadata": {
        "colab": {
          "base_uri": "https://localhost:8080/"
        },
        "id": "OhbWiaQt9HME",
        "outputId": "346bc07a-ef02-48b5-8ac2-f9a5df0381ae"
      },
      "execution_count": 16,
      "outputs": [
        {
          "output_type": "stream",
          "name": "stdout",
          "text": [
            "Draw a threshold dotplot of two sequences\n",
            "Created dotmatcher.svg\n"
          ]
        }
      ]
    },
    {
      "cell_type": "code",
      "source": [
        "display(SVG(\"dotmatcher.svg\"))"
      ],
      "metadata": {
        "colab": {
          "base_uri": "https://localhost:8080/",
          "height": 588
        },
        "id": "xJTbSB5V9O95",
        "outputId": "ea0daa9b-6cbc-42a3-dce6-704d75741ed0"
      },
      "execution_count": 18,
      "outputs": [
        {
          "output_type": "display_data",
          "data": {
            "text/plain": [
              "<IPython.core.display.SVG object>"
            ],
            "image/svg+xml": "<svg xmlns=\"http://www.w3.org/2000/svg\" version=\"1.1\" width=\"20cm\" height=\"15cm\" viewBox=\"0 0 720 540\">\n    <rect x=\"0\" y=\"0\" width=\"720\" height=\"540\" stroke=\"none\" fill=\"#FFFFFF\"/>\n    <g transform=\"matrix(1 0 0 -1 0 540)\">\n      <g transform=\"matrix(1.000000 0.000000 -0.000000 -1.000000 379 521)\">\n        <text dominant-baseline=\"no-change\" x=\"0\" y=\"0\" fill=\"#000000\" xml:space=\"preserve\" font-size=\"18\" text-anchor=\"middle\"><tspan font-family=\"sans-serif\" font-style=\"normal\" font-weight=\"normal\">Dotmatcher: fasta::seqI.fasta:seqI vs fasta::AcWRKY24.fa...</tspan>\n        </text>\n      </g>\n      <g transform=\"matrix(1.000000 0.000000 -0.000000 -1.000000 379 505)\">\n        <text dominant-baseline=\"no-change\" x=\"0\" y=\"0\" fill=\"#000000\" xml:space=\"preserve\" font-size=\"9\" text-anchor=\"middle\"><tspan font-family=\"sans-serif\" font-style=\"normal\" font-weight=\"normal\">(windowsize = 10, threshold = 23.00  30/09/24)</tspan>\n        </text>\n      </g>\n      <g transform=\"matrix(1.000000 0.000000 0.000000 -1.000000 167 25)\">\n        <text dominant-baseline=\"no-change\" x=\"0\" y=\"0\" fill=\"#000000\" xml:space=\"preserve\" font-size=\"18\" text-anchor=\"middle\"><tspan font-family=\"sans-serif\" font-style=\"normal\" font-weight=\"normal\">seqI</tspan>\n        </text>\n      </g>\n      <g transform=\"matrix(0.000000 -1.000000 -1.000000 -0.000000 16 264)\">\n        <text dominant-baseline=\"no-change\" x=\"0\" y=\"0\" fill=\"#000000\" xml:space=\"preserve\" font-size=\"18\" text-anchor=\"middle\"><tspan font-family=\"sans-serif\" font-style=\"normal\" font-weight=\"normal\">Aco005341.1</tspan>\n        </text>\n      </g>\n      <polyline stroke-width=\"1\" stroke=\"#000000\" fill=\"none\" points=\"69,72 77,79\"/>\n      <polyline stroke-width=\"1\" stroke=\"#000000\" fill=\"none\" points=\"150,188 157,195\"/>\n      <polyline stroke-width=\"1\" stroke=\"#000000\" fill=\"none\" points=\"208,255 218,264\"/>\n      <polyline stroke-width=\"1\" stroke=\"#000000\" fill=\"none\" points=\"213,259 219,265\"/>\n      <polyline stroke-width=\"1\" stroke=\"#000000\" fill=\"none\" points=\"176,224 206,253\"/>\n      <polyline stroke-width=\"1\" stroke=\"#000000\" fill=\"none\" points=\"149,215 156,222\"/>\n      <polyline stroke-width=\"1\" stroke=\"#000000\" fill=\"none\" points=\"146,213 154,221\"/>\n      <polyline stroke-width=\"1\" stroke=\"#000000\" fill=\"none\" points=\"144,212 151,218\"/>\n      <polyline stroke-width=\"1\" stroke=\"#000000\" fill=\"none\" points=\"145,213 153,221\"/>\n      <polyline stroke-width=\"1\" stroke=\"#000000\" fill=\"none\" points=\"144,213 154,222\"/>\n      <polyline stroke-width=\"1\" stroke=\"#000000\" fill=\"none\" points=\"144,213 153,222\"/>\n      <polyline stroke-width=\"1\" stroke=\"#000000\" fill=\"none\" points=\"142,212 152,222\"/>\n      <polyline stroke-width=\"1\" stroke=\"#000000\" fill=\"none\" points=\"142,212 152,222\"/>\n      <polyline stroke-width=\"1\" stroke=\"#000000\" fill=\"none\" points=\"142,213 151,222\"/>\n      <polyline stroke-width=\"1\" stroke=\"#000000\" fill=\"none\" points=\"142,214 151,222\"/>\n      <polyline stroke-width=\"1\" stroke=\"#000000\" fill=\"none\" points=\"144,216 150,222\"/>\n      <polyline stroke-width=\"1\" stroke=\"#000000\" fill=\"none\" points=\"151,247 157,253\"/>\n      <polyline stroke-width=\"1\" stroke=\"#000000\" fill=\"none\" points=\"154,330 161,336\"/>\n      <polyline stroke-width=\"1\" stroke=\"#000000\" fill=\"none\" points=\"154,331 161,337\"/>\n      <polyline stroke-width=\"1\" stroke=\"#000000\" fill=\"none\" points=\"168,346 175,353\"/>\n      <polyline stroke-width=\"1\" stroke=\"#000000\" fill=\"none\" points=\"173,351 201,377\"/>\n      <polyline stroke-width=\"1\" stroke=\"#000000\" fill=\"none\" points=\"196,373 206,382\"/>\n      <polyline stroke-width=\"1\" stroke=\"#000000\" fill=\"none\" points=\"205,381 219,395\"/>\n      <polyline stroke-width=\"1\" stroke=\"#000000\" fill=\"none\" points=\"117,324 125,331\"/>\n      <polyline stroke-width=\"1\" stroke=\"#000000\" fill=\"none\" points=\"108,398 114,404\"/>\n      <polyline stroke-width=\"1\" stroke=\"#000000\" fill=\"none\" points=\"78,388 85,394\"/>\n      <polyline stroke-width=\"1\" stroke=\"#000000\" fill=\"none\" points=\"79,389 86,395\"/>\n      <polyline stroke-width=\"1\" stroke=\"#000000\" fill=\"none\" points=\"75,447 81,453\"/>\n      <polyline stroke-width=\"1\" stroke=\"#000000\" fill=\"none\" points=\"132,77 140,84\"/>\n      <polyline stroke-width=\"1\" stroke=\"#000000\" fill=\"none\" points=\"217,104 224,111\"/>\n      <polyline stroke-width=\"1\" stroke=\"#000000\" fill=\"none\" points=\"65,62 65,478 268,478 268,62 65,62 \"/>\n      <polyline stroke-width=\"1\" stroke=\"#000000\" fill=\"none\" points=\"65,62 65,56\"/>\n      <g transform=\"matrix(1.000000 0.000000 0.000000 -1.000000 65 47)\">\n        <text dominant-baseline=\"no-change\" x=\"0\" y=\"0\" fill=\"#000000\" xml:space=\"preserve\" font-size=\"9\" text-anchor=\"middle\"><tspan font-family=\"sans-serif\" font-style=\"normal\" font-weight=\"normal\">0</tspan>\n        </text>\n      </g>\n      <polyline stroke-width=\"1\" stroke=\"#000000\" fill=\"none\" points=\"97,62 97,56\"/>\n      <g transform=\"matrix(1.000000 0.000000 0.000000 -1.000000 97 47)\">\n        <text dominant-baseline=\"no-change\" x=\"0\" y=\"0\" fill=\"#000000\" xml:space=\"preserve\" font-size=\"9\" text-anchor=\"middle\"><tspan font-family=\"sans-serif\" font-style=\"normal\" font-weight=\"normal\">50</tspan>\n        </text>\n      </g>\n      <polyline stroke-width=\"1\" stroke=\"#000000\" fill=\"none\" points=\"129,62 129,56\"/>\n      <g transform=\"matrix(1.000000 0.000000 0.000000 -1.000000 129 47)\">\n        <text dominant-baseline=\"no-change\" x=\"0\" y=\"0\" fill=\"#000000\" xml:space=\"preserve\" font-size=\"9\" text-anchor=\"middle\"><tspan font-family=\"sans-serif\" font-style=\"normal\" font-weight=\"normal\">100</tspan>\n        </text>\n      </g>\n      <polyline stroke-width=\"1\" stroke=\"#000000\" fill=\"none\" points=\"161,62 161,56\"/>\n      <g transform=\"matrix(1.000000 0.000000 0.000000 -1.000000 161 47)\">\n        <text dominant-baseline=\"no-change\" x=\"0\" y=\"0\" fill=\"#000000\" xml:space=\"preserve\" font-size=\"9\" text-anchor=\"middle\"><tspan font-family=\"sans-serif\" font-style=\"normal\" font-weight=\"normal\">150</tspan>\n        </text>\n      </g>\n      <polyline stroke-width=\"1\" stroke=\"#000000\" fill=\"none\" points=\"192,62 192,56\"/>\n      <g transform=\"matrix(1.000000 0.000000 0.000000 -1.000000 192 47)\">\n        <text dominant-baseline=\"no-change\" x=\"0\" y=\"0\" fill=\"#000000\" xml:space=\"preserve\" font-size=\"9\" text-anchor=\"middle\"><tspan font-family=\"sans-serif\" font-style=\"normal\" font-weight=\"normal\">200</tspan>\n        </text>\n      </g>\n      <polyline stroke-width=\"1\" stroke=\"#000000\" fill=\"none\" points=\"224,62 224,56\"/>\n      <g transform=\"matrix(1.000000 0.000000 0.000000 -1.000000 224 47)\">\n        <text dominant-baseline=\"no-change\" x=\"0\" y=\"0\" fill=\"#000000\" xml:space=\"preserve\" font-size=\"9\" text-anchor=\"middle\"><tspan font-family=\"sans-serif\" font-style=\"normal\" font-weight=\"normal\">250</tspan>\n        </text>\n      </g>\n      <polyline stroke-width=\"1\" stroke=\"#000000\" fill=\"none\" points=\"256,62 256,56\"/>\n      <g transform=\"matrix(1.000000 0.000000 0.000000 -1.000000 256 47)\">\n        <text dominant-baseline=\"no-change\" x=\"0\" y=\"0\" fill=\"#000000\" xml:space=\"preserve\" font-size=\"9\" text-anchor=\"middle\"><tspan font-family=\"sans-serif\" font-style=\"normal\" font-weight=\"normal\">300</tspan>\n        </text>\n      </g>\n      <polyline stroke-width=\"1\" stroke=\"#000000\" fill=\"none\" points=\"65,62 65,62\"/>\n      <g transform=\"matrix(1.000000 0.000000 0.000000 -1.000000 64 59)\">\n        <text dominant-baseline=\"no-change\" x=\"0\" y=\"0\" fill=\"#000000\" xml:space=\"preserve\" font-size=\"9\" text-anchor=\"end\"><tspan font-family=\"sans-serif\" font-style=\"normal\" font-weight=\"normal\">0</tspan>\n        </text>\n      </g>\n      <polyline stroke-width=\"1\" stroke=\"#000000\" fill=\"none\" points=\"65,123 65,123\"/>\n      <g transform=\"matrix(1.000000 0.000000 0.000000 -1.000000 64 120)\">\n        <text dominant-baseline=\"no-change\" x=\"0\" y=\"0\" fill=\"#000000\" xml:space=\"preserve\" font-size=\"9\" text-anchor=\"end\"><tspan font-family=\"sans-serif\" font-style=\"normal\" font-weight=\"normal\">100</tspan>\n        </text>\n      </g>\n      <polyline stroke-width=\"1\" stroke=\"#000000\" fill=\"none\" points=\"65,183 65,183\"/>\n      <g transform=\"matrix(1.000000 0.000000 0.000000 -1.000000 64 180)\">\n        <text dominant-baseline=\"no-change\" x=\"0\" y=\"0\" fill=\"#000000\" xml:space=\"preserve\" font-size=\"9\" text-anchor=\"end\"><tspan font-family=\"sans-serif\" font-style=\"normal\" font-weight=\"normal\">200</tspan>\n        </text>\n      </g>\n      <polyline stroke-width=\"1\" stroke=\"#000000\" fill=\"none\" points=\"65,244 65,244\"/>\n      <g transform=\"matrix(1.000000 0.000000 0.000000 -1.000000 64 241)\">\n        <text dominant-baseline=\"no-change\" x=\"0\" y=\"0\" fill=\"#000000\" xml:space=\"preserve\" font-size=\"9\" text-anchor=\"end\"><tspan font-family=\"sans-serif\" font-style=\"normal\" font-weight=\"normal\">300</tspan>\n        </text>\n      </g>\n      <polyline stroke-width=\"1\" stroke=\"#000000\" fill=\"none\" points=\"65,304 65,304\"/>\n      <g transform=\"matrix(1.000000 0.000000 0.000000 -1.000000 64 301)\">\n        <text dominant-baseline=\"no-change\" x=\"0\" y=\"0\" fill=\"#000000\" xml:space=\"preserve\" font-size=\"9\" text-anchor=\"end\"><tspan font-family=\"sans-serif\" font-style=\"normal\" font-weight=\"normal\">400</tspan>\n        </text>\n      </g>\n      <polyline stroke-width=\"1\" stroke=\"#000000\" fill=\"none\" points=\"65,365 65,365\"/>\n      <g transform=\"matrix(1.000000 0.000000 0.000000 -1.000000 64 362)\">\n        <text dominant-baseline=\"no-change\" x=\"0\" y=\"0\" fill=\"#000000\" xml:space=\"preserve\" font-size=\"9\" text-anchor=\"end\"><tspan font-family=\"sans-serif\" font-style=\"normal\" font-weight=\"normal\">500</tspan>\n        </text>\n      </g>\n      <polyline stroke-width=\"1\" stroke=\"#000000\" fill=\"none\" points=\"65,425 65,425\"/>\n      <g transform=\"matrix(1.000000 0.000000 0.000000 -1.000000 64 422)\">\n        <text dominant-baseline=\"no-change\" x=\"0\" y=\"0\" fill=\"#000000\" xml:space=\"preserve\" font-size=\"9\" text-anchor=\"end\"><tspan font-family=\"sans-serif\" font-style=\"normal\" font-weight=\"normal\">600</tspan>\n        </text>\n      </g>\n    </g>\n  </svg>"
          },
          "metadata": {}
        }
      ]
    },
    {
      "cell_type": "code",
      "source": [
        "!dotmatcher seqI.fasta AcWRKY24.fasta -windowsize 5 -threshold 15 -graph svg"
      ],
      "metadata": {
        "colab": {
          "base_uri": "https://localhost:8080/"
        },
        "id": "Znpyntxp9ZkN",
        "outputId": "240a2ac5-15d9-457b-c050-937446baa897"
      },
      "execution_count": 19,
      "outputs": [
        {
          "output_type": "stream",
          "name": "stdout",
          "text": [
            "Draw a threshold dotplot of two sequences\n",
            "Created dotmatcher.svg\n"
          ]
        }
      ]
    },
    {
      "cell_type": "code",
      "source": [
        "display(SVG('dotmatcher.svg'))"
      ],
      "metadata": {
        "colab": {
          "base_uri": "https://localhost:8080/",
          "height": 588
        },
        "id": "U2Oo_Dju-ChQ",
        "outputId": "709f012f-a14e-43dc-bdfe-1fa334b4f436"
      },
      "execution_count": 20,
      "outputs": [
        {
          "output_type": "display_data",
          "data": {
            "text/plain": [
              "<IPython.core.display.SVG object>"
            ],
            "image/svg+xml": "<svg xmlns=\"http://www.w3.org/2000/svg\" version=\"1.1\" width=\"20cm\" height=\"15cm\" viewBox=\"0 0 720 540\">\n    <rect x=\"0\" y=\"0\" width=\"720\" height=\"540\" stroke=\"none\" fill=\"#FFFFFF\"/>\n    <g transform=\"matrix(1 0 0 -1 0 540)\">\n      <g transform=\"matrix(1.000000 0.000000 -0.000000 -1.000000 379 521)\">\n        <text dominant-baseline=\"no-change\" x=\"0\" y=\"0\" fill=\"#000000\" xml:space=\"preserve\" font-size=\"18\" text-anchor=\"middle\"><tspan font-family=\"sans-serif\" font-style=\"normal\" font-weight=\"normal\">Dotmatcher: fasta::seqI.fasta:seqI vs fasta::AcWRKY24.fa...</tspan>\n        </text>\n      </g>\n      <g transform=\"matrix(1.000000 0.000000 -0.000000 -1.000000 379 505)\">\n        <text dominant-baseline=\"no-change\" x=\"0\" y=\"0\" fill=\"#000000\" xml:space=\"preserve\" font-size=\"9\" text-anchor=\"middle\"><tspan font-family=\"sans-serif\" font-style=\"normal\" font-weight=\"normal\">(windowsize = 5, threshold = 15.00  30/09/24)</tspan>\n        </text>\n      </g>\n      <g transform=\"matrix(1.000000 0.000000 0.000000 -1.000000 167 25)\">\n        <text dominant-baseline=\"no-change\" x=\"0\" y=\"0\" fill=\"#000000\" xml:space=\"preserve\" font-size=\"18\" text-anchor=\"middle\"><tspan font-family=\"sans-serif\" font-style=\"normal\" font-weight=\"normal\">seqI</tspan>\n        </text>\n      </g>\n      <g transform=\"matrix(0.000000 -1.000000 -1.000000 -0.000000 16 264)\">\n        <text dominant-baseline=\"no-change\" x=\"0\" y=\"0\" fill=\"#000000\" xml:space=\"preserve\" font-size=\"18\" text-anchor=\"middle\"><tspan font-family=\"sans-serif\" font-style=\"normal\" font-weight=\"normal\">Aco005341.1</tspan>\n        </text>\n      </g>\n      <polyline stroke-width=\"1\" stroke=\"#000000\" fill=\"none\" points=\"156,157 161,161\"/>\n      <polyline stroke-width=\"1\" stroke=\"#000000\" fill=\"none\" points=\"151,158 154,161\"/>\n      <polyline stroke-width=\"1\" stroke=\"#000000\" fill=\"none\" points=\"100,112 103,115\"/>\n      <polyline stroke-width=\"1\" stroke=\"#000000\" fill=\"none\" points=\"141,157 145,161\"/>\n      <polyline stroke-width=\"1\" stroke=\"#000000\" fill=\"none\" points=\"239,250 242,253\"/>\n      <polyline stroke-width=\"1\" stroke=\"#000000\" fill=\"none\" points=\"226,242 229,246\"/>\n      <polyline stroke-width=\"1\" stroke=\"#000000\" fill=\"none\" points=\"227,244 230,247\"/>\n      <polyline stroke-width=\"1\" stroke=\"#000000\" fill=\"none\" points=\"69,95 72,98\"/>\n      <polyline stroke-width=\"1\" stroke=\"#000000\" fill=\"none\" points=\"132,157 135,160\"/>\n      <polyline stroke-width=\"1\" stroke=\"#000000\" fill=\"none\" points=\"68,99 71,102\"/>\n      <polyline stroke-width=\"1\" stroke=\"#000000\" fill=\"none\" points=\"155,191 158,194\"/>\n      <polyline stroke-width=\"1\" stroke=\"#000000\" fill=\"none\" points=\"153,191 156,194\"/>\n      <polyline stroke-width=\"1\" stroke=\"#000000\" fill=\"none\" points=\"175,212 180,217\"/>\n      <polyline stroke-width=\"1\" stroke=\"#000000\" fill=\"none\" points=\"129,169 133,173\"/>\n      <polyline stroke-width=\"1\" stroke=\"#000000\" fill=\"none\" points=\"130,171 133,174\"/>\n      <polyline stroke-width=\"1\" stroke=\"#000000\" fill=\"none\" points=\"239,282 243,285\"/>\n      <polyline stroke-width=\"1\" stroke=\"#000000\" fill=\"none\" points=\"210,256 217,262\"/>\n      <polyline stroke-width=\"1\" stroke=\"#000000\" fill=\"none\" points=\"178,226 188,236\"/>\n      <polyline stroke-width=\"1\" stroke=\"#000000\" fill=\"none\" points=\"187,235 197,244\"/>\n      <polyline stroke-width=\"1\" stroke=\"#000000\" fill=\"none\" points=\"197,244 201,248\"/>\n      <polyline stroke-width=\"1\" stroke=\"#000000\" fill=\"none\" points=\"199,246 205,252\"/>\n      <polyline stroke-width=\"1\" stroke=\"#000000\" fill=\"none\" points=\"219,265 222,268\"/>\n      <polyline stroke-width=\"1\" stroke=\"#000000\" fill=\"none\" points=\"123,175 126,178\"/>\n      <polyline stroke-width=\"1\" stroke=\"#000000\" fill=\"none\" points=\"241,296 244,299\"/>\n      <polyline stroke-width=\"1\" stroke=\"#000000\" fill=\"none\" points=\"149,215 152,219\"/>\n      <polyline stroke-width=\"1\" stroke=\"#000000\" fill=\"none\" points=\"147,215 152,220\"/>\n      <polyline stroke-width=\"1\" stroke=\"#000000\" fill=\"none\" points=\"147,215 152,220\"/>\n      <polyline stroke-width=\"1\" stroke=\"#000000\" fill=\"none\" points=\"164,231 167,234\"/>\n      <polyline stroke-width=\"1\" stroke=\"#000000\" fill=\"none\" points=\"146,215 152,220\"/>\n      <polyline stroke-width=\"1\" stroke=\"#000000\" fill=\"none\" points=\"145,215 151,220\"/>\n      <polyline stroke-width=\"1\" stroke=\"#000000\" fill=\"none\" points=\"145,215 151,220\"/>\n      <polyline stroke-width=\"1\" stroke=\"#000000\" fill=\"none\" points=\"144,215 150,220\"/>\n      <polyline stroke-width=\"1\" stroke=\"#000000\" fill=\"none\" points=\"144,215 149,220\"/>\n      <polyline stroke-width=\"1\" stroke=\"#000000\" fill=\"none\" points=\"76,151 79,154\"/>\n      <polyline stroke-width=\"1\" stroke=\"#000000\" fill=\"none\" points=\"144,215 149,220\"/>\n      <polyline stroke-width=\"1\" stroke=\"#000000\" fill=\"none\" points=\"144,216 148,220\"/>\n      <polyline stroke-width=\"1\" stroke=\"#000000\" fill=\"none\" points=\"144,216 147,220\"/>\n      <polyline stroke-width=\"1\" stroke=\"#000000\" fill=\"none\" points=\"94,178 98,183\"/>\n      <polyline stroke-width=\"1\" stroke=\"#000000\" fill=\"none\" points=\"126,209 129,212\"/>\n      <polyline stroke-width=\"1\" stroke=\"#000000\" fill=\"none\" points=\"160,241 165,246\"/>\n      <polyline stroke-width=\"1\" stroke=\"#000000\" fill=\"none\" points=\"110,195 113,198\"/>\n      <polyline stroke-width=\"1\" stroke=\"#000000\" fill=\"none\" points=\"166,249 170,252\"/>\n      <polyline stroke-width=\"1\" stroke=\"#000000\" fill=\"none\" points=\"163,247 166,250\"/>\n      <polyline stroke-width=\"1\" stroke=\"#000000\" fill=\"none\" points=\"110,201 114,204\"/>\n      <polyline stroke-width=\"1\" stroke=\"#000000\" fill=\"none\" points=\"151,247 154,250\"/>\n      <polyline stroke-width=\"1\" stroke=\"#000000\" fill=\"none\" points=\"121,223 125,226\"/>\n      <polyline stroke-width=\"1\" stroke=\"#000000\" fill=\"none\" points=\"119,222 123,226\"/>\n      <polyline stroke-width=\"1\" stroke=\"#000000\" fill=\"none\" points=\"205,307 209,310\"/>\n      <polyline stroke-width=\"1\" stroke=\"#000000\" fill=\"none\" points=\"141,247 144,250\"/>\n      <polyline stroke-width=\"1\" stroke=\"#000000\" fill=\"none\" points=\"156,268 159,272\"/>\n      <polyline stroke-width=\"1\" stroke=\"#000000\" fill=\"none\" points=\"177,289 180,292\"/>\n      <polyline stroke-width=\"1\" stroke=\"#000000\" fill=\"none\" points=\"183,294 187,298\"/>\n      <polyline stroke-width=\"1\" stroke=\"#000000\" fill=\"none\" points=\"75,197 78,200\"/>\n      <polyline stroke-width=\"1\" stroke=\"#000000\" fill=\"none\" points=\"245,367 248,370\"/>\n      <polyline stroke-width=\"1\" stroke=\"#000000\" fill=\"none\" points=\"252,375 255,378\"/>\n      <polyline stroke-width=\"1\" stroke=\"#000000\" fill=\"none\" points=\"154,290 159,294\"/>\n      <polyline stroke-width=\"1\" stroke=\"#000000\" fill=\"none\" points=\"152,289 156,293\"/>\n      <polyline stroke-width=\"1\" stroke=\"#000000\" fill=\"none\" points=\"205,347 209,351\"/>\n      <polyline stroke-width=\"1\" stroke=\"#000000\" fill=\"none\" points=\"226,372 230,376\"/>\n      <polyline stroke-width=\"1\" stroke=\"#000000\" fill=\"none\" points=\"111,264 114,267\"/>\n      <polyline stroke-width=\"1\" stroke=\"#000000\" fill=\"none\" points=\"265,411 268,414\"/>\n      <polyline stroke-width=\"1\" stroke=\"#000000\" fill=\"none\" points=\"265,412 268,415\"/>\n      <polyline stroke-width=\"1\" stroke=\"#000000\" fill=\"none\" points=\"239,394 242,397\"/>\n      <polyline stroke-width=\"1\" stroke=\"#000000\" fill=\"none\" points=\"154,319 158,322\"/>\n      <polyline stroke-width=\"1\" stroke=\"#000000\" fill=\"none\" points=\"147,315 151,318\"/>\n      <polyline stroke-width=\"1\" stroke=\"#000000\" fill=\"none\" points=\"147,315 151,319\"/>\n      <polyline stroke-width=\"1\" stroke=\"#000000\" fill=\"none\" points=\"146,315 150,319\"/>\n      <polyline stroke-width=\"1\" stroke=\"#000000\" fill=\"none\" points=\"145,315 149,319\"/>\n      <polyline stroke-width=\"1\" stroke=\"#000000\" fill=\"none\" points=\"145,315 149,319\"/>\n      <polyline stroke-width=\"1\" stroke=\"#000000\" fill=\"none\" points=\"144,315 148,319\"/>\n      <polyline stroke-width=\"1\" stroke=\"#000000\" fill=\"none\" points=\"144,316 147,319\"/>\n      <polyline stroke-width=\"1\" stroke=\"#000000\" fill=\"none\" points=\"239,409 243,413\"/>\n      <polyline stroke-width=\"1\" stroke=\"#000000\" fill=\"none\" points=\"154,330 158,333\"/>\n      <polyline stroke-width=\"1\" stroke=\"#000000\" fill=\"none\" points=\"156,331 159,334\"/>\n      <polyline stroke-width=\"1\" stroke=\"#000000\" fill=\"none\" points=\"78,258 81,261\"/>\n      <polyline stroke-width=\"1\" stroke=\"#000000\" fill=\"none\" points=\"153,330 157,334\"/>\n      <polyline stroke-width=\"1\" stroke=\"#000000\" fill=\"none\" points=\"136,315 139,318\"/>\n      <polyline stroke-width=\"1\" stroke=\"#000000\" fill=\"none\" points=\"136,316 139,319\"/>\n      <polyline stroke-width=\"1\" stroke=\"#000000\" fill=\"none\" points=\"168,346 172,350\"/>\n      <polyline stroke-width=\"1\" stroke=\"#000000\" fill=\"none\" points=\"174,352 177,355\"/>\n      <polyline stroke-width=\"1\" stroke=\"#000000\" fill=\"none\" points=\"177,354 188,365\"/>\n      <polyline stroke-width=\"1\" stroke=\"#000000\" fill=\"none\" points=\"187,364 190,367\"/>\n      <polyline stroke-width=\"1\" stroke=\"#000000\" fill=\"none\" points=\"189,366 197,374\"/>\n      <polyline stroke-width=\"1\" stroke=\"#000000\" fill=\"none\" points=\"198,374 201,377\"/>\n      <polyline stroke-width=\"1\" stroke=\"#000000\" fill=\"none\" points=\"199,376 204,380\"/>\n      <polyline stroke-width=\"1\" stroke=\"#000000\" fill=\"none\" points=\"207,383 217,393\"/>\n      <polyline stroke-width=\"1\" stroke=\"#000000\" fill=\"none\" points=\"194,374 198,377\"/>\n      <polyline stroke-width=\"1\" stroke=\"#000000\" fill=\"none\" points=\"148,333 151,336\"/>\n      <polyline stroke-width=\"1\" stroke=\"#000000\" fill=\"none\" points=\"248,429 252,432\"/>\n      <polyline stroke-width=\"1\" stroke=\"#000000\" fill=\"none\" points=\"220,406 224,410\"/>\n      <polyline stroke-width=\"1\" stroke=\"#000000\" fill=\"none\" points=\"134,330 138,334\"/>\n      <polyline stroke-width=\"1\" stroke=\"#000000\" fill=\"none\" points=\"164,360 167,363\"/>\n      <polyline stroke-width=\"1\" stroke=\"#000000\" fill=\"none\" points=\"213,411 217,414\"/>\n      <polyline stroke-width=\"1\" stroke=\"#000000\" fill=\"none\" points=\"210,409 215,414\"/>\n      <polyline stroke-width=\"1\" stroke=\"#000000\" fill=\"none\" points=\"120,325 125,329\"/>\n      <polyline stroke-width=\"1\" stroke=\"#000000\" fill=\"none\" points=\"120,325 125,330\"/>\n      <polyline stroke-width=\"1\" stroke=\"#000000\" fill=\"none\" points=\"119,325 125,330\"/>\n      <polyline stroke-width=\"1\" stroke=\"#000000\" fill=\"none\" points=\"119,325 125,331\"/>\n      <polyline stroke-width=\"1\" stroke=\"#000000\" fill=\"none\" points=\"119,327 125,331\"/>\n      <polyline stroke-width=\"1\" stroke=\"#000000\" fill=\"none\" points=\"119,327 125,332\"/>\n      <polyline stroke-width=\"1\" stroke=\"#000000\" fill=\"none\" points=\"119,328 124,332\"/>\n      <polyline stroke-width=\"1\" stroke=\"#000000\" fill=\"none\" points=\"120,329 123,332\"/>\n      <polyline stroke-width=\"1\" stroke=\"#000000\" fill=\"none\" points=\"186,392 189,395\"/>\n      <polyline stroke-width=\"1\" stroke=\"#000000\" fill=\"none\" points=\"224,429 227,432\"/>\n      <polyline stroke-width=\"1\" stroke=\"#000000\" fill=\"none\" points=\"203,411 207,415\"/>\n      <polyline stroke-width=\"1\" stroke=\"#000000\" fill=\"none\" points=\"213,421 218,425\"/>\n      <polyline stroke-width=\"1\" stroke=\"#000000\" fill=\"none\" points=\"248,463 252,466\"/>\n      <polyline stroke-width=\"1\" stroke=\"#000000\" fill=\"none\" points=\"93,320 97,324\"/>\n      <polyline stroke-width=\"1\" stroke=\"#000000\" fill=\"none\" points=\"189,423 192,426\"/>\n      <polyline stroke-width=\"1\" stroke=\"#000000\" fill=\"none\" points=\"154,398 158,402\"/>\n      <polyline stroke-width=\"1\" stroke=\"#000000\" fill=\"none\" points=\"167,411 171,415\"/>\n      <polyline stroke-width=\"1\" stroke=\"#000000\" fill=\"none\" points=\"116,371 119,374\"/>\n      <polyline stroke-width=\"1\" stroke=\"#000000\" fill=\"none\" points=\"117,372 120,375\"/>\n      <polyline stroke-width=\"1\" stroke=\"#000000\" fill=\"none\" points=\"81,341 85,344\"/>\n      <polyline stroke-width=\"1\" stroke=\"#000000\" fill=\"none\" points=\"76,342 79,345\"/>\n      <polyline stroke-width=\"1\" stroke=\"#000000\" fill=\"none\" points=\"182,444 187,448\"/>\n      <polyline stroke-width=\"1\" stroke=\"#000000\" fill=\"none\" points=\"120,395 125,400\"/>\n      <polyline stroke-width=\"1\" stroke=\"#000000\" fill=\"none\" points=\"119,395 125,400\"/>\n      <polyline stroke-width=\"1\" stroke=\"#000000\" fill=\"none\" points=\"119,396 124,400\"/>\n      <polyline stroke-width=\"1\" stroke=\"#000000\" fill=\"none\" points=\"121,403 125,406\"/>\n      <polyline stroke-width=\"1\" stroke=\"#000000\" fill=\"none\" points=\"111,394 114,397\"/>\n      <polyline stroke-width=\"1\" stroke=\"#000000\" fill=\"none\" points=\"121,403 124,406\"/>\n      <polyline stroke-width=\"1\" stroke=\"#000000\" fill=\"none\" points=\"111,400 116,405\"/>\n      <polyline stroke-width=\"1\" stroke=\"#000000\" fill=\"none\" points=\"76,372 80,376\"/>\n      <polyline stroke-width=\"1\" stroke=\"#000000\" fill=\"none\" points=\"79,380 84,384\"/>\n      <polyline stroke-width=\"1\" stroke=\"#000000\" fill=\"none\" points=\"78,388 83,392\"/>\n      <polyline stroke-width=\"1\" stroke=\"#000000\" fill=\"none\" points=\"68,389 72,393\"/>\n      <polyline stroke-width=\"1\" stroke=\"#000000\" fill=\"none\" points=\"68,411 72,415\"/>\n      <polyline stroke-width=\"1\" stroke=\"#000000\" fill=\"none\" points=\"68,412 71,415\"/>\n      <polyline stroke-width=\"1\" stroke=\"#000000\" fill=\"none\" points=\"75,441 79,445\"/>\n      <polyline stroke-width=\"1\" stroke=\"#000000\" fill=\"none\" points=\"75,447 80,452\"/>\n      <polyline stroke-width=\"1\" stroke=\"#000000\" fill=\"none\" points=\"111,100 114,103\"/>\n      <polyline stroke-width=\"1\" stroke=\"#000000\" fill=\"none\" points=\"202,185 206,189\"/>\n      <polyline stroke-width=\"1\" stroke=\"#000000\" fill=\"none\" points=\"104,90 109,94\"/>\n      <polyline stroke-width=\"1\" stroke=\"#000000\" fill=\"none\" points=\"170,149 173,152\"/>\n      <polyline stroke-width=\"1\" stroke=\"#000000\" fill=\"none\" points=\"213,186 217,190\"/>\n      <polyline stroke-width=\"1\" stroke=\"#000000\" fill=\"none\" points=\"212,181 215,184\"/>\n      <polyline stroke-width=\"1\" stroke=\"#000000\" fill=\"none\" points=\"238,201 242,205\"/>\n      <polyline stroke-width=\"1\" stroke=\"#000000\" fill=\"none\" points=\"100,63 103,66\"/>\n      <polyline stroke-width=\"1\" stroke=\"#000000\" fill=\"none\" points=\"135,93 138,96\"/>\n      <polyline stroke-width=\"1\" stroke=\"#000000\" fill=\"none\" points=\"229,178 233,181\"/>\n      <polyline stroke-width=\"1\" stroke=\"#000000\" fill=\"none\" points=\"239,185 243,188\"/>\n      <polyline stroke-width=\"1\" stroke=\"#000000\" fill=\"none\" points=\"133,78 138,83\"/>\n      <polyline stroke-width=\"1\" stroke=\"#000000\" fill=\"none\" points=\"260,189 263,192\"/>\n      <polyline stroke-width=\"1\" stroke=\"#000000\" fill=\"none\" points=\"215,145 218,148\"/>\n      <polyline stroke-width=\"1\" stroke=\"#000000\" fill=\"none\" points=\"149,80 152,83\"/>\n      <polyline stroke-width=\"1\" stroke=\"#000000\" fill=\"none\" points=\"255,179 259,182\"/>\n      <polyline stroke-width=\"1\" stroke=\"#000000\" fill=\"none\" points=\"257,180 260,183\"/>\n      <polyline stroke-width=\"1\" stroke=\"#000000\" fill=\"none\" points=\"154,80 158,83\"/>\n      <polyline stroke-width=\"1\" stroke=\"#000000\" fill=\"none\" points=\"158,82 161,85\"/>\n      <polyline stroke-width=\"1\" stroke=\"#000000\" fill=\"none\" points=\"156,80 159,83\"/>\n      <polyline stroke-width=\"1\" stroke=\"#000000\" fill=\"none\" points=\"158,81 161,84\"/>\n      <polyline stroke-width=\"1\" stroke=\"#000000\" fill=\"none\" points=\"215,134 219,137\"/>\n      <polyline stroke-width=\"1\" stroke=\"#000000\" fill=\"none\" points=\"238,153 241,156\"/>\n      <polyline stroke-width=\"1\" stroke=\"#000000\" fill=\"none\" points=\"165,82 168,85\"/>\n      <polyline stroke-width=\"1\" stroke=\"#000000\" fill=\"none\" points=\"213,126 217,129\"/>\n      <polyline stroke-width=\"1\" stroke=\"#000000\" fill=\"none\" points=\"255,162 259,165\"/>\n      <polyline stroke-width=\"1\" stroke=\"#000000\" fill=\"none\" points=\"247,151 250,154\"/>\n      <polyline stroke-width=\"1\" stroke=\"#000000\" fill=\"none\" points=\"248,143 252,146\"/>\n      <polyline stroke-width=\"1\" stroke=\"#000000\" fill=\"none\" points=\"243,133 246,136\"/>\n      <polyline stroke-width=\"1\" stroke=\"#000000\" fill=\"none\" points=\"217,103 222,108\"/>\n      <polyline stroke-width=\"1\" stroke=\"#000000\" fill=\"none\" points=\"213,99 216,102\"/>\n      <polyline stroke-width=\"1\" stroke=\"#000000\" fill=\"none\" points=\"248,132 252,135\"/>\n      <polyline stroke-width=\"1\" stroke=\"#000000\" fill=\"none\" points=\"188,72 191,75\"/>\n      <polyline stroke-width=\"1\" stroke=\"#000000\" fill=\"none\" points=\"215,73 219,77\"/>\n      <polyline stroke-width=\"1\" stroke=\"#000000\" fill=\"none\" points=\"258,93 261,96\"/>\n      <polyline stroke-width=\"1\" stroke=\"#000000\" fill=\"none\" points=\"65,62 65,478 268,478 268,62 65,62 \"/>\n      <polyline stroke-width=\"1\" stroke=\"#000000\" fill=\"none\" points=\"65,62 65,56\"/>\n      <g transform=\"matrix(1.000000 0.000000 0.000000 -1.000000 65 47)\">\n        <text dominant-baseline=\"no-change\" x=\"0\" y=\"0\" fill=\"#000000\" xml:space=\"preserve\" font-size=\"9\" text-anchor=\"middle\"><tspan font-family=\"sans-serif\" font-style=\"normal\" font-weight=\"normal\">0</tspan>\n        </text>\n      </g>\n      <polyline stroke-width=\"1\" stroke=\"#000000\" fill=\"none\" points=\"97,62 97,56\"/>\n      <g transform=\"matrix(1.000000 0.000000 0.000000 -1.000000 97 47)\">\n        <text dominant-baseline=\"no-change\" x=\"0\" y=\"0\" fill=\"#000000\" xml:space=\"preserve\" font-size=\"9\" text-anchor=\"middle\"><tspan font-family=\"sans-serif\" font-style=\"normal\" font-weight=\"normal\">50</tspan>\n        </text>\n      </g>\n      <polyline stroke-width=\"1\" stroke=\"#000000\" fill=\"none\" points=\"129,62 129,56\"/>\n      <g transform=\"matrix(1.000000 0.000000 0.000000 -1.000000 129 47)\">\n        <text dominant-baseline=\"no-change\" x=\"0\" y=\"0\" fill=\"#000000\" xml:space=\"preserve\" font-size=\"9\" text-anchor=\"middle\"><tspan font-family=\"sans-serif\" font-style=\"normal\" font-weight=\"normal\">100</tspan>\n        </text>\n      </g>\n      <polyline stroke-width=\"1\" stroke=\"#000000\" fill=\"none\" points=\"161,62 161,56\"/>\n      <g transform=\"matrix(1.000000 0.000000 0.000000 -1.000000 161 47)\">\n        <text dominant-baseline=\"no-change\" x=\"0\" y=\"0\" fill=\"#000000\" xml:space=\"preserve\" font-size=\"9\" text-anchor=\"middle\"><tspan font-family=\"sans-serif\" font-style=\"normal\" font-weight=\"normal\">150</tspan>\n        </text>\n      </g>\n      <polyline stroke-width=\"1\" stroke=\"#000000\" fill=\"none\" points=\"192,62 192,56\"/>\n      <g transform=\"matrix(1.000000 0.000000 0.000000 -1.000000 192 47)\">\n        <text dominant-baseline=\"no-change\" x=\"0\" y=\"0\" fill=\"#000000\" xml:space=\"preserve\" font-size=\"9\" text-anchor=\"middle\"><tspan font-family=\"sans-serif\" font-style=\"normal\" font-weight=\"normal\">200</tspan>\n        </text>\n      </g>\n      <polyline stroke-width=\"1\" stroke=\"#000000\" fill=\"none\" points=\"224,62 224,56\"/>\n      <g transform=\"matrix(1.000000 0.000000 0.000000 -1.000000 224 47)\">\n        <text dominant-baseline=\"no-change\" x=\"0\" y=\"0\" fill=\"#000000\" xml:space=\"preserve\" font-size=\"9\" text-anchor=\"middle\"><tspan font-family=\"sans-serif\" font-style=\"normal\" font-weight=\"normal\">250</tspan>\n        </text>\n      </g>\n      <polyline stroke-width=\"1\" stroke=\"#000000\" fill=\"none\" points=\"256,62 256,56\"/>\n      <g transform=\"matrix(1.000000 0.000000 0.000000 -1.000000 256 47)\">\n        <text dominant-baseline=\"no-change\" x=\"0\" y=\"0\" fill=\"#000000\" xml:space=\"preserve\" font-size=\"9\" text-anchor=\"middle\"><tspan font-family=\"sans-serif\" font-style=\"normal\" font-weight=\"normal\">300</tspan>\n        </text>\n      </g>\n      <polyline stroke-width=\"1\" stroke=\"#000000\" fill=\"none\" points=\"65,62 65,62\"/>\n      <g transform=\"matrix(1.000000 0.000000 0.000000 -1.000000 64 59)\">\n        <text dominant-baseline=\"no-change\" x=\"0\" y=\"0\" fill=\"#000000\" xml:space=\"preserve\" font-size=\"9\" text-anchor=\"end\"><tspan font-family=\"sans-serif\" font-style=\"normal\" font-weight=\"normal\">0</tspan>\n        </text>\n      </g>\n      <polyline stroke-width=\"1\" stroke=\"#000000\" fill=\"none\" points=\"65,123 65,123\"/>\n      <g transform=\"matrix(1.000000 0.000000 0.000000 -1.000000 64 120)\">\n        <text dominant-baseline=\"no-change\" x=\"0\" y=\"0\" fill=\"#000000\" xml:space=\"preserve\" font-size=\"9\" text-anchor=\"end\"><tspan font-family=\"sans-serif\" font-style=\"normal\" font-weight=\"normal\">100</tspan>\n        </text>\n      </g>\n      <polyline stroke-width=\"1\" stroke=\"#000000\" fill=\"none\" points=\"65,183 65,183\"/>\n      <g transform=\"matrix(1.000000 0.000000 0.000000 -1.000000 64 180)\">\n        <text dominant-baseline=\"no-change\" x=\"0\" y=\"0\" fill=\"#000000\" xml:space=\"preserve\" font-size=\"9\" text-anchor=\"end\"><tspan font-family=\"sans-serif\" font-style=\"normal\" font-weight=\"normal\">200</tspan>\n        </text>\n      </g>\n      <polyline stroke-width=\"1\" stroke=\"#000000\" fill=\"none\" points=\"65,244 65,244\"/>\n      <g transform=\"matrix(1.000000 0.000000 0.000000 -1.000000 64 241)\">\n        <text dominant-baseline=\"no-change\" x=\"0\" y=\"0\" fill=\"#000000\" xml:space=\"preserve\" font-size=\"9\" text-anchor=\"end\"><tspan font-family=\"sans-serif\" font-style=\"normal\" font-weight=\"normal\">300</tspan>\n        </text>\n      </g>\n      <polyline stroke-width=\"1\" stroke=\"#000000\" fill=\"none\" points=\"65,304 65,304\"/>\n      <g transform=\"matrix(1.000000 0.000000 0.000000 -1.000000 64 301)\">\n        <text dominant-baseline=\"no-change\" x=\"0\" y=\"0\" fill=\"#000000\" xml:space=\"preserve\" font-size=\"9\" text-anchor=\"end\"><tspan font-family=\"sans-serif\" font-style=\"normal\" font-weight=\"normal\">400</tspan>\n        </text>\n      </g>\n      <polyline stroke-width=\"1\" stroke=\"#000000\" fill=\"none\" points=\"65,365 65,365\"/>\n      <g transform=\"matrix(1.000000 0.000000 0.000000 -1.000000 64 362)\">\n        <text dominant-baseline=\"no-change\" x=\"0\" y=\"0\" fill=\"#000000\" xml:space=\"preserve\" font-size=\"9\" text-anchor=\"end\"><tspan font-family=\"sans-serif\" font-style=\"normal\" font-weight=\"normal\">500</tspan>\n        </text>\n      </g>\n      <polyline stroke-width=\"1\" stroke=\"#000000\" fill=\"none\" points=\"65,425 65,425\"/>\n      <g transform=\"matrix(1.000000 0.000000 0.000000 -1.000000 64 422)\">\n        <text dominant-baseline=\"no-change\" x=\"0\" y=\"0\" fill=\"#000000\" xml:space=\"preserve\" font-size=\"9\" text-anchor=\"end\"><tspan font-family=\"sans-serif\" font-style=\"normal\" font-weight=\"normal\">600</tspan>\n        </text>\n      </g>\n    </g>\n  </svg>"
          },
          "metadata": {}
        }
      ]
    },
    {
      "cell_type": "code",
      "source": [],
      "metadata": {
        "id": "ELLiQhWi-E9I"
      },
      "execution_count": null,
      "outputs": []
    }
  ]
}